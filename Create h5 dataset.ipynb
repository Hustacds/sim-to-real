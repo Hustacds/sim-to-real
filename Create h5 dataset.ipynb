{
 "cells": [
  {
   "cell_type": "code",
   "execution_count": 1,
   "metadata": {
    "collapsed": false
   },
   "outputs": [],
   "source": [
    "from __future__ import print_function\n",
    "\n",
    "from glob import glob\n",
    "import os\n",
    "\n",
    "from fuel.streams import DataStream\n",
    "from fuel.schemes import ShuffledScheme\n",
    "from fuel.datasets.hdf5 import H5PYDataset\n",
    "import h5py\n",
    "import pandas as pd\n",
    "import numpy as np\n",
    "from scipy.misc import imread\n",
    "\n",
    "img_dim = 256\n",
    "\n",
    "cmds_rec1 = pd.read_csv('data/ergo-rec-1/data-0-cmds.csv',\n",
    "            names=['command', 'action_1', 'action_2', 'action_3',\n",
    "                  'action_4', 'action_5', 'action_6'])\n",
    "pos_rec1 = pd.read_csv('data/ergo-rec-1/data-0-pos.csv',\n",
    "            names=['pos_1', 'pos_2', 'pos_3', 'pos_4', 'pos_5', 'pos_6'])\n",
    "vel_rec1 = pd.read_csv('data/ergo-rec-1/data-0-vel.csv',\n",
    "            names=['vel_{}'.format(i) for i in range(36)])\n",
    "\n",
    "cmds_rec2 = pd.read_csv('data/ergo-rec-2/data-0-cmds.csv',\n",
    "            names=['command', 'action_1', 'action_2', 'action_3',\n",
    "                  'action_4', 'action_5', 'action_6'])\n",
    "pos_rec2 = pd.read_csv('data/ergo-rec-2/data-0-pos.csv',\n",
    "            names=['pos_1', 'pos_2', 'pos_3', 'pos_4', 'pos_5', 'pos_6'])\n",
    "vel_rec2 = pd.read_csv('data/ergo-rec-2/data-0-vel.csv',\n",
    "            names=['vel_{}'.format(i) for i in range(36)])\n",
    "\n",
    "assert (cmds_rec1 == cmds_rec2).all().all()\n",
    "\n",
    "func = lambda x: int(x.split('-')[-1].split('.')[0])\n",
    "rec1_imgs = glob('data/ergo-rec-1/*.jpg')\n",
    "rec1_imgs = sorted(rec1_imgs, key=func)\n",
    "\n",
    "rec2_imgs = glob('data/ergo-rec-2/*.jpg')\n",
    "rec2_imgs = sorted(rec2_imgs, key=func)\n",
    "\n",
    "time = 60\n",
    "size = len(rec1_imgs) / time\n",
    "\n",
    "f = h5py.File('/u/alitaiga/repositories/sim-to-real/robot_data.h5', mode='w')\n",
    "# f = h5py.File('/data/lisatmp3/alitaiga/sim-to-real/robot_data.h5', mode='w')\n",
    "image_source = f.create_dataset('image_source', (size, time, 3, img_dim, img_dim), dtype='float32')\n",
    "image_target = f.create_dataset('image_target', (size, time, 3, img_dim, img_dim), dtype='float32')\n",
    "actions = f.create_dataset('actions', (size, time, 7), dtype='float32')\n",
    "state = f.create_dataset('states', (size, time, 42), dtype='float32')\n",
    "\n",
    "split_dict = {\n",
    "    'train': {\n",
    "        'image_source': (0, size),\n",
    "        'image_target': (0, size),\n",
    "        'actions': (0, size),\n",
    "        'states': (0, size),\n",
    "    },\n",
    "}\n",
    "f.attrs['split'] = H5PYDataset.create_split_array(split_dict)\n",
    "\n",
    "flush = 40\n",
    "\n",
    "# rm /u/alitaiga/repositories/sim-to-real/robot_data.h5"
   ]
  },
  {
   "cell_type": "code",
   "execution_count": 2,
   "metadata": {
    "collapsed": false
   },
   "outputs": [],
   "source": [
    "# rm /u/alitaiga/repositories/sim-to-real/robot_data.h5"
   ]
  },
  {
   "cell_type": "code",
   "execution_count": 3,
   "metadata": {
    "collapsed": false
   },
   "outputs": [
    {
     "ename": "NameError",
     "evalue": "name 'cmds' is not defined",
     "output_type": "error",
     "traceback": [
      "\u001b[0;31m---------------------------------------------------------------------------\u001b[0m",
      "\u001b[0;31mNameError\u001b[0m                                 Traceback (most recent call last)",
      "\u001b[0;32m<ipython-input-3-3b7a9102be5e>\u001b[0m in \u001b[0;36m<module>\u001b[0;34m()\u001b[0m\n\u001b[1;32m     18\u001b[0m         \u001b[0marray1\u001b[0m \u001b[0;34m=\u001b[0m \u001b[0mnp\u001b[0m\u001b[0;34m.\u001b[0m\u001b[0mconcatenate\u001b[0m\u001b[0;34m(\u001b[0m\u001b[0ml1\u001b[0m\u001b[0;34m,\u001b[0m \u001b[0maxis\u001b[0m\u001b[0;34m=\u001b[0m\u001b[0;36m0\u001b[0m\u001b[0;34m)\u001b[0m\u001b[0;34m\u001b[0m\u001b[0m\n\u001b[1;32m     19\u001b[0m         \u001b[0marray2\u001b[0m \u001b[0;34m=\u001b[0m \u001b[0mnp\u001b[0m\u001b[0;34m.\u001b[0m\u001b[0mconcatenate\u001b[0m\u001b[0;34m(\u001b[0m\u001b[0ml2\u001b[0m\u001b[0;34m,\u001b[0m \u001b[0maxis\u001b[0m\u001b[0;34m=\u001b[0m\u001b[0;36m0\u001b[0m\u001b[0;34m)\u001b[0m\u001b[0;34m\u001b[0m\u001b[0m\n\u001b[0;32m---> 20\u001b[0;31m         \u001b[0marray_acts\u001b[0m \u001b[0;34m=\u001b[0m \u001b[0mnp\u001b[0m\u001b[0;34m.\u001b[0m\u001b[0mvstack\u001b[0m\u001b[0;34m(\u001b[0m\u001b[0mcmds\u001b[0m\u001b[0;34m)\u001b[0m\u001b[0;34m\u001b[0m\u001b[0m\n\u001b[0m\u001b[1;32m     21\u001b[0m         \u001b[0marray_states\u001b[0m \u001b[0;34m=\u001b[0m \u001b[0mnp\u001b[0m\u001b[0;34m.\u001b[0m\u001b[0mvstack\u001b[0m\u001b[0;34m(\u001b[0m\u001b[0mstates\u001b[0m\u001b[0;34m)\u001b[0m\u001b[0;34m\u001b[0m\u001b[0m\n\u001b[1;32m     22\u001b[0m \u001b[0;34m\u001b[0m\u001b[0m\n",
      "\u001b[0;31mNameError\u001b[0m: name 'cmds' is not defined"
     ]
    }
   ],
   "source": [
    "l1, l2, acts, states = [], [], [], []\n",
    "count = 0\n",
    "i = 0\n",
    "\n",
    "for img1, img2 in zip(rec1_imgs, rec2_imgs):\n",
    "    assert func(img1) == func(img2)\n",
    "    im1, im2 = imread(img1), imread(img2)\n",
    "    ind = func(img1)\n",
    "    l1.append(im1.reshape(1,3,img_dim,img_dim))\n",
    "    l2.append(im2.reshape(1,3,img_dim,img_dim))\n",
    "    acts.append(cmds_rec1.iloc[ind].values)\n",
    "    states.append(np.concatenate([\n",
    "        pos_rec1.iloc[0].values, vel_rec1.iloc[0].values\n",
    "    ], axis=0))\n",
    "    i += 1\n",
    "    \n",
    "    if len(l1) == time:\n",
    "        array1 = np.concatenate(l1, axis=0)\n",
    "        array2 = np.concatenate(l2, axis=0)\n",
    "        array_acts = np.vstack(cmds)\n",
    "        array_states = np.vstack(states)\n",
    "        \n",
    "        image_source[count, :, :, :, :] = array1\n",
    "        image_target[count, :, :, :, :] = array2\n",
    "        state[count, :, :] = array_states\n",
    "        actions[count, :, :] = array_acts\n",
    "        l1, l2, acts, states = [], [], [], []\n",
    "        count += 1 \n",
    "        \n",
    "    if count % flush == 0 and count != 0:\n",
    "        f.flush()\n",
    "f.flush()"
   ]
  },
  {
   "cell_type": "code",
   "execution_count": null,
   "metadata": {
    "collapsed": false
   },
   "outputs": [],
   "source": [
    "batch = 8\n",
    "\n",
    "robot_data = H5PYDataset(\n",
    "    '/u/alitaiga/repositories/sim-to-real/robot_data.h5',\n",
    "    which_sets=('train',)\n",
    ")\n",
    "stream = DataStream(\n",
    "    robot_data,\n",
    "    iteration_scheme=ShuffledScheme(robot_data.num_examples, batch)\n",
    ")"
   ]
  },
  {
   "cell_type": "code",
   "execution_count": null,
   "metadata": {
    "collapsed": true
   },
   "outputs": [],
   "source": [
    "iter_ = stream.get_epoch_iterator()"
   ]
  },
  {
   "cell_type": "code",
   "execution_count": 6,
   "metadata": {
    "collapsed": false
   },
   "outputs": [
    {
     "data": {
      "text/plain": [
       "'data/ergo-rec-1/outfile-0-0.jpg'"
      ]
     },
     "execution_count": 6,
     "metadata": {},
     "output_type": "execute_result"
    }
   ],
   "source": [
    "rec1_imgs[0]"
   ]
  },
  {
   "cell_type": "code",
   "execution_count": null,
   "metadata": {
    "collapsed": false
   },
   "outputs": [],
   "source": [
    "print([x.shape for x in l])"
   ]
  },
  {
   "cell_type": "code",
   "execution_count": 4,
   "metadata": {
    "collapsed": true
   },
   "outputs": [],
   "source": [
    "from scipy.misc import toimage"
   ]
  },
  {
   "cell_type": "code",
   "execution_count": 9,
   "metadata": {
    "collapsed": false
   },
   "outputs": [],
   "source": [
    "from PIL import Image\n",
    "\n",
    "image = Image.open('data/ergo-rec-1/outfile-0-0.jpg')\n",
    "image.show()"
   ]
  },
  {
   "cell_type": "code",
   "execution_count": 15,
   "metadata": {
    "collapsed": false
   },
   "outputs": [
    {
     "data": {
      "text/plain": [
       "(256, 256, 3)"
      ]
     },
     "execution_count": 15,
     "metadata": {},
     "output_type": "execute_result"
    }
   ],
   "source": [
    "array.shape"
   ]
  },
  {
   "cell_type": "code",
   "execution_count": 14,
   "metadata": {
    "collapsed": false
   },
   "outputs": [],
   "source": [
    "array = np.asarray(image)"
   ]
  },
  {
   "cell_type": "code",
   "execution_count": 25,
   "metadata": {
    "collapsed": false
   },
   "outputs": [
    {
     "data": {
      "image/png": "[encoded data removed]",
      "text/plain": [
       "<PIL.Image.Image image mode=RGB size=128x128 at 0x7FA7A16CD250>"
      ]
     },
     "execution_count": 25,
     "metadata": {},
     "output_type": "execute_result"
    }
   ],
   "source": [
    "Image.fromarray(array[64:192,64:192,:])"
   ]
  },
  {
   "cell_type": "code",
   "execution_count": 18,
   "metadata": {
    "collapsed": false
   },
   "outputs": [
    {
     "data": {
      "text/plain": [
       "(64, 64, 3)"
      ]
     },
     "execution_count": 18,
     "metadata": {},
     "output_type": "execute_result"
    }
   ],
   "source": [
    "array[64:128,64:128,:].shape"
   ]
  },
  {
   "cell_type": "code",
   "execution_count": 19,
   "metadata": {
    "collapsed": false
   },
   "outputs": [
    {
     "data": {
      "text/plain": [
       "(256, 256, 3)"
      ]
     },
     "execution_count": 19,
     "metadata": {},
     "output_type": "execute_result"
    }
   ],
   "source": [
    "array.shape"
   ]
  },
  {
   "cell_type": "code",
   "execution_count": 20,
   "metadata": {
    "collapsed": false
   },
   "outputs": [
    {
     "data": {
      "text/plain": [
       "192"
      ]
     },
     "execution_count": 20,
     "metadata": {},
     "output_type": "execute_result"
    }
   ],
   "source": [
    "256-64"
   ]
  },
  {
   "cell_type": "code",
   "execution_count": 21,
   "metadata": {
    "collapsed": false
   },
   "outputs": [
    {
     "data": {
      "text/plain": [
       "128"
      ]
     },
     "execution_count": 21,
     "metadata": {},
     "output_type": "execute_result"
    }
   ],
   "source": [
    "256-128"
   ]
  },
  {
   "cell_type": "code",
   "execution_count": 22,
   "metadata": {
    "collapsed": false
   },
   "outputs": [
    {
     "data": {
      "text/plain": [
       "64"
      ]
     },
     "execution_count": 22,
     "metadata": {},
     "output_type": "execute_result"
    }
   ],
   "source": [
    "128/2"
   ]
  },
  {
   "cell_type": "code",
   "execution_count": 24,
   "metadata": {
    "collapsed": false
   },
   "outputs": [
    {
     "data": {
      "text/plain": [
       "192"
      ]
     },
     "execution_count": 24,
     "metadata": {},
     "output_type": "execute_result"
    }
   ],
   "source": [
    "256-64"
   ]
  },
  {
   "cell_type": "code",
   "execution_count": null,
   "metadata": {
    "collapsed": true
   },
   "outputs": [],
   "source": []
  }
 ],
 "metadata": {
  "kernelspec": {
   "display_name": "Python 2",
   "language": "python",
   "name": "python2"
  },
  "language_info": {
   "codemirror_mode": {
    "name": "ipython",
    "version": 2
   },
   "file_extension": ".py",
   "mimetype": "text/x-python",
   "name": "python",
   "nbconvert_exporter": "python",
   "pygments_lexer": "ipython2",
   "version": "2.7.13"
  }
 },
 "nbformat": 4,
 "nbformat_minor": 2
}
